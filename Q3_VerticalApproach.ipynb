{
  "cells": [
    {
      "cell_type": "markdown",
      "metadata": {
        "id": "view-in-github",
        "colab_type": "text"
      },
      "source": [
        "<a href=\"https://colab.research.google.com/github/Nandini1230/module3/blob/main/Q3_VerticalApproach.ipynb\" target=\"_parent\"><img src=\"https://colab.research.google.com/assets/colab-badge.svg\" alt=\"Open In Colab\"/></a>"
      ]
    },
    {
      "cell_type": "code",
      "execution_count": null,
      "metadata": {
        "id": "XPtoZDhT9vSN"
      },
      "outputs": [],
      "source": [
        "import pandas as pd\n",
        "import numpy as np\n",
        "from apyori import apriori"
      ]
    },
    {
      "cell_type": "code",
      "execution_count": null,
      "metadata": {
        "id": "CmycW2sa9vSR",
        "outputId": "80d06714-854c-4dd1-f960-8249aa5d7ddf"
      },
      "outputs": [
        {
          "data": {
            "text/html": [
              "<div>\n",
              "<style scoped>\n",
              "    .dataframe tbody tr th:only-of-type {\n",
              "        vertical-align: middle;\n",
              "    }\n",
              "\n",
              "    .dataframe tbody tr th {\n",
              "        vertical-align: top;\n",
              "    }\n",
              "\n",
              "    .dataframe thead th {\n",
              "        text-align: right;\n",
              "    }\n",
              "</style>\n",
              "<table border=\"1\" class=\"dataframe\">\n",
              "  <thead>\n",
              "    <tr style=\"text-align: right;\">\n",
              "      <th></th>\n",
              "      <th>0</th>\n",
              "      <th>1</th>\n",
              "      <th>2</th>\n",
              "      <th>3</th>\n",
              "      <th>4</th>\n",
              "      <th>5</th>\n",
              "      <th>6</th>\n",
              "      <th>7</th>\n",
              "      <th>8</th>\n",
              "      <th>9</th>\n",
              "      <th>10</th>\n",
              "      <th>11</th>\n",
              "      <th>12</th>\n",
              "    </tr>\n",
              "  </thead>\n",
              "  <tbody>\n",
              "    <tr>\n",
              "      <th>0</th>\n",
              "      <td>age</td>\n",
              "      <td>job</td>\n",
              "      <td>marital</td>\n",
              "      <td>education</td>\n",
              "      <td>default</td>\n",
              "      <td>housing</td>\n",
              "      <td>loan</td>\n",
              "      <td>contact</td>\n",
              "      <td>month</td>\n",
              "      <td>day_of_week</td>\n",
              "      <td>duration</td>\n",
              "      <td>campaign</td>\n",
              "      <td>pdays</td>\n",
              "    </tr>\n",
              "    <tr>\n",
              "      <th>1</th>\n",
              "      <td>56</td>\n",
              "      <td>housemaid</td>\n",
              "      <td>married</td>\n",
              "      <td>basic.4y</td>\n",
              "      <td>no</td>\n",
              "      <td>no</td>\n",
              "      <td>no</td>\n",
              "      <td>telephone</td>\n",
              "      <td>may</td>\n",
              "      <td>mon</td>\n",
              "      <td>261</td>\n",
              "      <td>1</td>\n",
              "      <td>999</td>\n",
              "    </tr>\n",
              "    <tr>\n",
              "      <th>2</th>\n",
              "      <td>57</td>\n",
              "      <td>services</td>\n",
              "      <td>married</td>\n",
              "      <td>high.school</td>\n",
              "      <td>unknown</td>\n",
              "      <td>no</td>\n",
              "      <td>no</td>\n",
              "      <td>telephone</td>\n",
              "      <td>may</td>\n",
              "      <td>mon</td>\n",
              "      <td>149</td>\n",
              "      <td>1</td>\n",
              "      <td>999</td>\n",
              "    </tr>\n",
              "    <tr>\n",
              "      <th>3</th>\n",
              "      <td>37</td>\n",
              "      <td>services</td>\n",
              "      <td>married</td>\n",
              "      <td>high.school</td>\n",
              "      <td>no</td>\n",
              "      <td>yes</td>\n",
              "      <td>no</td>\n",
              "      <td>telephone</td>\n",
              "      <td>may</td>\n",
              "      <td>mon</td>\n",
              "      <td>226</td>\n",
              "      <td>1</td>\n",
              "      <td>999</td>\n",
              "    </tr>\n",
              "    <tr>\n",
              "      <th>4</th>\n",
              "      <td>40</td>\n",
              "      <td>admin.</td>\n",
              "      <td>married</td>\n",
              "      <td>basic.6y</td>\n",
              "      <td>no</td>\n",
              "      <td>no</td>\n",
              "      <td>no</td>\n",
              "      <td>telephone</td>\n",
              "      <td>may</td>\n",
              "      <td>mon</td>\n",
              "      <td>151</td>\n",
              "      <td>1</td>\n",
              "      <td>999</td>\n",
              "    </tr>\n",
              "  </tbody>\n",
              "</table>\n",
              "</div>"
            ],
            "text/plain": [
              "    0          1        2            3        4        5     6          7   \\\n",
              "0  age        job  marital    education  default  housing  loan    contact   \n",
              "1   56  housemaid  married     basic.4y       no       no    no  telephone   \n",
              "2   57   services  married  high.school  unknown       no    no  telephone   \n",
              "3   37   services  married  high.school       no      yes    no  telephone   \n",
              "4   40     admin.  married     basic.6y       no       no    no  telephone   \n",
              "\n",
              "      8            9         10        11     12  \n",
              "0  month  day_of_week  duration  campaign  pdays  \n",
              "1    may          mon       261         1    999  \n",
              "2    may          mon       149         1    999  \n",
              "3    may          mon       226         1    999  \n",
              "4    may          mon       151         1    999  "
            ]
          },
          "execution_count": 2,
          "metadata": {},
          "output_type": "execute_result"
        }
      ],
      "source": [
        "dataset=pd.read_csv('bm.csv',header=None)\n",
        "dataset.head()"
      ]
    },
    {
      "cell_type": "code",
      "execution_count": null,
      "metadata": {
        "id": "1A1D32wZ9vSU",
        "outputId": "6c26c743-2ea3-45ad-ae50-617476645d95"
      },
      "outputs": [
        {
          "data": {
            "text/plain": [
              "(41189, 13)"
            ]
          },
          "execution_count": 3,
          "metadata": {},
          "output_type": "execute_result"
        }
      ],
      "source": [
        "dataset.shape"
      ]
    },
    {
      "cell_type": "code",
      "execution_count": null,
      "metadata": {
        "id": "smU0uocw9vSU"
      },
      "outputs": [],
      "source": [
        "transactions=[]\n",
        "for i in range(0,7501):\n",
        "    transactions.append([str(dataset.values[i,j]) for j in range(0,12)])"
      ]
    },
    {
      "cell_type": "code",
      "execution_count": null,
      "metadata": {
        "id": "PMKsdJTa9vSV",
        "outputId": "25335255-6180-430b-b130-3c63c1beb250"
      },
      "outputs": [
        {
          "data": {
            "text/plain": [
              "[['age',\n",
              "  'job',\n",
              "  'marital',\n",
              "  'education',\n",
              "  'default',\n",
              "  'housing',\n",
              "  'loan',\n",
              "  'contact',\n",
              "  'month',\n",
              "  'day_of_week',\n",
              "  'duration',\n",
              "  'campaign'],\n",
              " ['56',\n",
              "  'housemaid',\n",
              "  'married',\n",
              "  'basic.4y',\n",
              "  'no',\n",
              "  'no',\n",
              "  'no',\n",
              "  'telephone',\n",
              "  'may',\n",
              "  'mon',\n",
              "  '261',\n",
              "  '1']]"
            ]
          },
          "execution_count": 6,
          "metadata": {},
          "output_type": "execute_result"
        }
      ],
      "source": [
        "transactions[:2]"
      ]
    },
    {
      "cell_type": "code",
      "execution_count": null,
      "metadata": {
        "id": "CNKOex8R9vSV"
      },
      "outputs": [],
      "source": [
        "from apyori import apriori\n",
        "rules=apriori(transactions,min_support=0.003,min_confidence=0.2,min_lift=3,min_length=2,max_length=2)"
      ]
    },
    {
      "cell_type": "code",
      "execution_count": null,
      "metadata": {
        "id": "niDTiyHD9vSW",
        "outputId": "c5409bc0-e19e-4385-b238-b639cdd73428"
      },
      "outputs": [
        {
          "data": {
            "text/plain": [
              "[RelationRecord(items=frozenset({'59', 'retired'}), support=0.004399413411545127, ordered_statistics=[OrderedStatistic(items_base=frozenset({'59'}), items_add=frozenset({'retired'}), confidence=0.2894736842105263, lift=10.242179741807348)]),\n",
              " RelationRecord(items=frozenset({'housemaid', 'basic.4y'}), support=0.011998400213304892, ordered_statistics=[OrderedStatistic(items_base=frozenset({'housemaid'}), items_add=frozenset({'basic.4y'}), confidence=0.40909090909090906, lift=3.176595143986448)]),\n",
              " RelationRecord(items=frozenset({'professional.course', 'technician'}), support=0.06785761898413545, ordered_statistics=[OrderedStatistic(items_base=frozenset({'professional.course'}), items_add=frozenset({'technician'}), confidence=0.5974178403755869, lift=4.401995305164319), OrderedStatistic(items_base=frozenset({'technician'}), items_add=frozenset({'professional.course'}), confidence=0.5, lift=4.401995305164319)]),\n",
              " RelationRecord(items=frozenset({'student', 'single'}), support=0.008132249033462205, ordered_statistics=[OrderedStatistic(items_base=frozenset({'student'}), items_add=frozenset({'single'}), confidence=0.9242424242424242, lift=4.284760459976776)])]"
            ]
          },
          "execution_count": 8,
          "metadata": {},
          "output_type": "execute_result"
        }
      ],
      "source": [
        "results=list(rules)\n",
        "results"
      ]
    },
    {
      "cell_type": "code",
      "execution_count": null,
      "metadata": {
        "id": "gafivAac9vSW"
      },
      "outputs": [],
      "source": [
        "lhs,rhs,support=[],[],[]\n",
        "for result in results:\n",
        "    lhs.append(tuple(result[2][0][0])[0])\n",
        "    rhs.append(tuple(result[2][0][1])[0])\n",
        "    support.append(result[1])"
      ]
    },
    {
      "cell_type": "code",
      "execution_count": null,
      "metadata": {
        "id": "LMZq4F1a9vSX"
      },
      "outputs": [],
      "source": [
        "columns=list(zip(lhs,rhs,support))"
      ]
    },
    {
      "cell_type": "code",
      "execution_count": null,
      "metadata": {
        "id": "IV308b8C9vSX",
        "outputId": "0347d50f-a791-4789-b9ee-538785b62f62"
      },
      "outputs": [
        {
          "data": {
            "text/html": [
              "<div>\n",
              "<style scoped>\n",
              "    .dataframe tbody tr th:only-of-type {\n",
              "        vertical-align: middle;\n",
              "    }\n",
              "\n",
              "    .dataframe tbody tr th {\n",
              "        vertical-align: top;\n",
              "    }\n",
              "\n",
              "    .dataframe thead th {\n",
              "        text-align: right;\n",
              "    }\n",
              "</style>\n",
              "<table border=\"1\" class=\"dataframe\">\n",
              "  <thead>\n",
              "    <tr style=\"text-align: right;\">\n",
              "      <th></th>\n",
              "      <th>Item1</th>\n",
              "      <th>Item2</th>\n",
              "      <th>Support</th>\n",
              "    </tr>\n",
              "  </thead>\n",
              "  <tbody>\n",
              "    <tr>\n",
              "      <th>0</th>\n",
              "      <td>59</td>\n",
              "      <td>retired</td>\n",
              "      <td>0.004399</td>\n",
              "    </tr>\n",
              "    <tr>\n",
              "      <th>1</th>\n",
              "      <td>housemaid</td>\n",
              "      <td>basic.4y</td>\n",
              "      <td>0.011998</td>\n",
              "    </tr>\n",
              "    <tr>\n",
              "      <th>2</th>\n",
              "      <td>professional.course</td>\n",
              "      <td>technician</td>\n",
              "      <td>0.067858</td>\n",
              "    </tr>\n",
              "    <tr>\n",
              "      <th>3</th>\n",
              "      <td>student</td>\n",
              "      <td>single</td>\n",
              "      <td>0.008132</td>\n",
              "    </tr>\n",
              "  </tbody>\n",
              "</table>\n",
              "</div>"
            ],
            "text/plain": [
              "                 Item1       Item2   Support\n",
              "0                   59     retired  0.004399\n",
              "1            housemaid    basic.4y  0.011998\n",
              "2  professional.course  technician  0.067858\n",
              "3              student      single  0.008132"
            ]
          },
          "execution_count": 11,
          "metadata": {},
          "output_type": "execute_result"
        }
      ],
      "source": [
        "result_df=pd.DataFrame(columns)\n",
        "result_df.columns=['Item1','Item2','Support']\n",
        "result_df"
      ]
    },
    {
      "cell_type": "code",
      "execution_count": null,
      "metadata": {
        "id": "aBUajmnZ9vSY",
        "outputId": "bfb90bf4-ca21-42f9-db78-d1b42a1ebc4d"
      },
      "outputs": [
        {
          "data": {
            "text/html": [
              "<div>\n",
              "<style scoped>\n",
              "    .dataframe tbody tr th:only-of-type {\n",
              "        vertical-align: middle;\n",
              "    }\n",
              "\n",
              "    .dataframe tbody tr th {\n",
              "        vertical-align: top;\n",
              "    }\n",
              "\n",
              "    .dataframe thead th {\n",
              "        text-align: right;\n",
              "    }\n",
              "</style>\n",
              "<table border=\"1\" class=\"dataframe\">\n",
              "  <thead>\n",
              "    <tr style=\"text-align: right;\">\n",
              "      <th></th>\n",
              "      <th>Item1</th>\n",
              "      <th>Item2</th>\n",
              "      <th>Support</th>\n",
              "    </tr>\n",
              "  </thead>\n",
              "  <tbody>\n",
              "    <tr>\n",
              "      <th>2</th>\n",
              "      <td>professional.course</td>\n",
              "      <td>technician</td>\n",
              "      <td>0.067858</td>\n",
              "    </tr>\n",
              "    <tr>\n",
              "      <th>1</th>\n",
              "      <td>housemaid</td>\n",
              "      <td>basic.4y</td>\n",
              "      <td>0.011998</td>\n",
              "    </tr>\n",
              "    <tr>\n",
              "      <th>3</th>\n",
              "      <td>student</td>\n",
              "      <td>single</td>\n",
              "      <td>0.008132</td>\n",
              "    </tr>\n",
              "    <tr>\n",
              "      <th>0</th>\n",
              "      <td>59</td>\n",
              "      <td>retired</td>\n",
              "      <td>0.004399</td>\n",
              "    </tr>\n",
              "  </tbody>\n",
              "</table>\n",
              "</div>"
            ],
            "text/plain": [
              "                 Item1       Item2   Support\n",
              "2  professional.course  technician  0.067858\n",
              "1            housemaid    basic.4y  0.011998\n",
              "3              student      single  0.008132\n",
              "0                   59     retired  0.004399"
            ]
          },
          "execution_count": 12,
          "metadata": {},
          "output_type": "execute_result"
        }
      ],
      "source": [
        "result_df=result_df.sort_values('Support',ascending=False)\n",
        "result_df"
      ]
    }
  ],
  "metadata": {
    "kernelspec": {
      "display_name": "Python 3 (ipykernel)",
      "language": "python",
      "name": "python3"
    },
    "language_info": {
      "codemirror_mode": {
        "name": "ipython",
        "version": 3
      },
      "file_extension": ".py",
      "mimetype": "text/x-python",
      "name": "python",
      "nbconvert_exporter": "python",
      "pygments_lexer": "ipython3",
      "version": "3.9.7"
    },
    "colab": {
      "provenance": [],
      "include_colab_link": true
    }
  },
  "nbformat": 4,
  "nbformat_minor": 0
}